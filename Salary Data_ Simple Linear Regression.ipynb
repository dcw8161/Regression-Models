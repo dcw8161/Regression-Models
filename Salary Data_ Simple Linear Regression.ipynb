{
 "cells": [
  {
   "cell_type": "markdown",
   "id": "5c7086de",
   "metadata": {},
   "source": [
    "# Simple Linear Regression"
   ]
  },
  {
   "cell_type": "markdown",
   "id": "0c3dae46",
   "metadata": {},
   "source": [
    "<h1>Table of contents</h1>\n",
    "\n",
    "<div class=\"alert alert-block alert-info\" style=\"margin-top: 20px\">\n",
    "    <ol>\n",
    "        <li><a href=\"#reading_data\">Reading the Data</a></li>\n",
    "        <li><a href=\"#exploratory_data_analysis\">Exploratory Data Analysis</a></li>\n",
    "        <li><a href=\"#simple_linear_regression_model\">Simple Linear Regression Model</a></li>\n",
    "        <li><a href=\"#predictions\">Predictions</a></li>\n",
    "         <li><a href=\"#references\">References</a></li>\n",
    "    </ol>\n",
    "</div>\n",
    "<br>\n",
    "<hr>"
   ]
  },
  {
   "cell_type": "markdown",
   "id": "3a111ed4",
   "metadata": {},
   "source": [
    "## Data Source\n",
    "A salary dataset, **`Salary_Data.csv`**, is downloaded ferom Kaggle.  [Dataset source](https://www.kaggle.com/dcw8161/salary-data-sl-regression/data)\n"
   ]
  },
  {
   "cell_type": "markdown",
   "id": "9e59feeb",
   "metadata": {},
   "source": [
    "## 1. Reading the Data"
   ]
  },
  {
   "cell_type": "code",
   "execution_count": 1,
   "id": "8abdc41b",
   "metadata": {
    "execution": {
     "iopub.execute_input": "2021-09-22T15:29:02.753839Z",
     "iopub.status.busy": "2021-09-22T15:29:02.753107Z",
     "iopub.status.idle": "2021-09-22T15:29:03.734014Z",
     "shell.execute_reply": "2021-09-22T15:29:03.733276Z",
     "shell.execute_reply.started": "2021-09-22T15:27:50.157137Z"
    },
    "papermill": {
     "duration": 1.003511,
     "end_time": "2021-09-22T15:29:03.734176",
     "exception": false,
     "start_time": "2021-09-22T15:29:02.730665",
     "status": "completed"
    },
    "tags": []
   },
   "outputs": [],
   "source": [
    "import pandas as pd\n",
    "import numpy as np\n",
    "import matplotlib.pyplot as plt\n",
    "import seaborn as sns"
   ]
  },
  {
   "cell_type": "code",
   "execution_count": 3,
   "id": "fedf67cc",
   "metadata": {
    "execution": {
     "iopub.execute_input": "2021-09-22T15:29:03.776461Z",
     "iopub.status.busy": "2021-09-22T15:29:03.775626Z",
     "iopub.status.idle": "2021-09-22T15:29:03.789180Z",
     "shell.execute_reply": "2021-09-22T15:29:03.788555Z",
     "shell.execute_reply.started": "2021-09-22T15:27:51.020591Z"
    },
    "papermill": {
     "duration": 0.036982,
     "end_time": "2021-09-22T15:29:03.789381",
     "exception": false,
     "start_time": "2021-09-22T15:29:03.752399",
     "status": "completed"
    },
    "tags": []
   },
   "outputs": [],
   "source": [
    "df = pd.read_csv(r'C:\\Users\\Chad\\Documents\\Projects\\Lenear_Regression\\Salary_Data.csv')"
   ]
  },
  {
   "cell_type": "code",
   "execution_count": 4,
   "id": "5ca0aa5a",
   "metadata": {
    "execution": {
     "iopub.execute_input": "2021-09-22T15:29:03.836276Z",
     "iopub.status.busy": "2021-09-22T15:29:03.835328Z",
     "iopub.status.idle": "2021-09-22T15:29:03.850206Z",
     "shell.execute_reply": "2021-09-22T15:29:03.850792Z",
     "shell.execute_reply.started": "2021-09-22T15:27:51.033828Z"
    },
    "papermill": {
     "duration": 0.042991,
     "end_time": "2021-09-22T15:29:03.850985",
     "exception": false,
     "start_time": "2021-09-22T15:29:03.807994",
     "status": "completed"
    },
    "tags": []
   },
   "outputs": [
    {
     "data": {
      "text/html": [
       "<div>\n",
       "<style scoped>\n",
       "    .dataframe tbody tr th:only-of-type {\n",
       "        vertical-align: middle;\n",
       "    }\n",
       "\n",
       "    .dataframe tbody tr th {\n",
       "        vertical-align: top;\n",
       "    }\n",
       "\n",
       "    .dataframe thead th {\n",
       "        text-align: right;\n",
       "    }\n",
       "</style>\n",
       "<table border=\"1\" class=\"dataframe\">\n",
       "  <thead>\n",
       "    <tr style=\"text-align: right;\">\n",
       "      <th></th>\n",
       "      <th>YearsExperience</th>\n",
       "      <th>Salary</th>\n",
       "    </tr>\n",
       "  </thead>\n",
       "  <tbody>\n",
       "    <tr>\n",
       "      <th>0</th>\n",
       "      <td>1.1</td>\n",
       "      <td>39343.0</td>\n",
       "    </tr>\n",
       "    <tr>\n",
       "      <th>1</th>\n",
       "      <td>1.3</td>\n",
       "      <td>46205.0</td>\n",
       "    </tr>\n",
       "    <tr>\n",
       "      <th>2</th>\n",
       "      <td>1.5</td>\n",
       "      <td>37731.0</td>\n",
       "    </tr>\n",
       "    <tr>\n",
       "      <th>3</th>\n",
       "      <td>2.0</td>\n",
       "      <td>43525.0</td>\n",
       "    </tr>\n",
       "    <tr>\n",
       "      <th>4</th>\n",
       "      <td>2.2</td>\n",
       "      <td>39891.0</td>\n",
       "    </tr>\n",
       "  </tbody>\n",
       "</table>\n",
       "</div>"
      ],
      "text/plain": [
       "   YearsExperience   Salary\n",
       "0              1.1  39343.0\n",
       "1              1.3  46205.0\n",
       "2              1.5  37731.0\n",
       "3              2.0  43525.0\n",
       "4              2.2  39891.0"
      ]
     },
     "execution_count": 4,
     "metadata": {},
     "output_type": "execute_result"
    }
   ],
   "source": [
    "df.head()"
   ]
  },
  {
   "cell_type": "markdown",
   "id": "274d6e2c",
   "metadata": {},
   "source": [
    "## 2. Exploratory Data Analysis"
   ]
  },
  {
   "cell_type": "code",
   "execution_count": 5,
   "id": "fb5c6433",
   "metadata": {
    "execution": {
     "iopub.execute_input": "2021-09-22T15:29:03.911419Z",
     "iopub.status.busy": "2021-09-22T15:29:03.910542Z",
     "iopub.status.idle": "2021-09-22T15:29:03.914365Z",
     "shell.execute_reply": "2021-09-22T15:29:03.915207Z",
     "shell.execute_reply.started": "2021-09-22T15:27:51.064197Z"
    },
    "papermill": {
     "duration": 0.045982,
     "end_time": "2021-09-22T15:29:03.915502",
     "exception": false,
     "start_time": "2021-09-22T15:29:03.869520",
     "status": "completed"
    },
    "tags": []
   },
   "outputs": [
    {
     "name": "stdout",
     "output_type": "stream",
     "text": [
      "<class 'pandas.core.frame.DataFrame'>\n",
      "RangeIndex: 30 entries, 0 to 29\n",
      "Data columns (total 2 columns):\n",
      " #   Column           Non-Null Count  Dtype  \n",
      "---  ------           --------------  -----  \n",
      " 0   YearsExperience  30 non-null     float64\n",
      " 1   Salary           30 non-null     float64\n",
      "dtypes: float64(2)\n",
      "memory usage: 608.0 bytes\n"
     ]
    }
   ],
   "source": [
    "df.info()"
   ]
  },
  {
   "cell_type": "code",
   "execution_count": 6,
   "id": "272a50db",
   "metadata": {
    "execution": {
     "iopub.execute_input": "2021-09-22T15:29:03.963205Z",
     "iopub.status.busy": "2021-09-22T15:29:03.962505Z",
     "iopub.status.idle": "2021-09-22T15:29:03.981357Z",
     "shell.execute_reply": "2021-09-22T15:29:03.980668Z",
     "shell.execute_reply.started": "2021-09-22T15:27:51.087304Z"
    },
    "papermill": {
     "duration": 0.04511,
     "end_time": "2021-09-22T15:29:03.981522",
     "exception": false,
     "start_time": "2021-09-22T15:29:03.936412",
     "status": "completed"
    },
    "tags": []
   },
   "outputs": [
    {
     "data": {
      "text/html": [
       "<div>\n",
       "<style scoped>\n",
       "    .dataframe tbody tr th:only-of-type {\n",
       "        vertical-align: middle;\n",
       "    }\n",
       "\n",
       "    .dataframe tbody tr th {\n",
       "        vertical-align: top;\n",
       "    }\n",
       "\n",
       "    .dataframe thead th {\n",
       "        text-align: right;\n",
       "    }\n",
       "</style>\n",
       "<table border=\"1\" class=\"dataframe\">\n",
       "  <thead>\n",
       "    <tr style=\"text-align: right;\">\n",
       "      <th></th>\n",
       "      <th>YearsExperience</th>\n",
       "      <th>Salary</th>\n",
       "    </tr>\n",
       "  </thead>\n",
       "  <tbody>\n",
       "    <tr>\n",
       "      <th>count</th>\n",
       "      <td>30.000000</td>\n",
       "      <td>30.000000</td>\n",
       "    </tr>\n",
       "    <tr>\n",
       "      <th>mean</th>\n",
       "      <td>5.313333</td>\n",
       "      <td>76003.000000</td>\n",
       "    </tr>\n",
       "    <tr>\n",
       "      <th>std</th>\n",
       "      <td>2.837888</td>\n",
       "      <td>27414.429785</td>\n",
       "    </tr>\n",
       "    <tr>\n",
       "      <th>min</th>\n",
       "      <td>1.100000</td>\n",
       "      <td>37731.000000</td>\n",
       "    </tr>\n",
       "    <tr>\n",
       "      <th>25%</th>\n",
       "      <td>3.200000</td>\n",
       "      <td>56720.750000</td>\n",
       "    </tr>\n",
       "    <tr>\n",
       "      <th>50%</th>\n",
       "      <td>4.700000</td>\n",
       "      <td>65237.000000</td>\n",
       "    </tr>\n",
       "    <tr>\n",
       "      <th>75%</th>\n",
       "      <td>7.700000</td>\n",
       "      <td>100544.750000</td>\n",
       "    </tr>\n",
       "    <tr>\n",
       "      <th>max</th>\n",
       "      <td>10.500000</td>\n",
       "      <td>122391.000000</td>\n",
       "    </tr>\n",
       "  </tbody>\n",
       "</table>\n",
       "</div>"
      ],
      "text/plain": [
       "       YearsExperience         Salary\n",
       "count        30.000000      30.000000\n",
       "mean          5.313333   76003.000000\n",
       "std           2.837888   27414.429785\n",
       "min           1.100000   37731.000000\n",
       "25%           3.200000   56720.750000\n",
       "50%           4.700000   65237.000000\n",
       "75%           7.700000  100544.750000\n",
       "max          10.500000  122391.000000"
      ]
     },
     "execution_count": 6,
     "metadata": {},
     "output_type": "execute_result"
    }
   ],
   "source": [
    "df.describe()"
   ]
  },
  {
   "cell_type": "code",
   "execution_count": 7,
   "id": "b9fbe4d0",
   "metadata": {
    "execution": {
     "iopub.execute_input": "2021-09-22T15:29:04.042155Z",
     "iopub.status.busy": "2021-09-22T15:29:04.041441Z",
     "iopub.status.idle": "2021-09-22T15:29:04.427142Z",
     "shell.execute_reply": "2021-09-22T15:29:04.428054Z",
     "shell.execute_reply.started": "2021-09-22T15:27:51.110247Z"
    },
    "papermill": {
     "duration": 0.427637,
     "end_time": "2021-09-22T15:29:04.428402",
     "exception": false,
     "start_time": "2021-09-22T15:29:04.000765",
     "status": "completed"
    },
    "tags": []
   },
   "outputs": [
    {
     "data": {
      "image/png": "[encoded data removed]",
      "text/plain": [
       "<Figure size 1152x432 with 1 Axes>"
      ]
     },
     "metadata": {
      "needs_background": "light"
     },
     "output_type": "display_data"
    }
   ],
   "source": [
    "plt.figure(figsize=(16,6))\n",
    "corr = df.corr\n",
    "sns.set_theme(style = 'white')\n",
    "heat_map = sns.scatterplot(x = df['YearsExperience'], y = df['Salary'])"
   ]
  },
  {
   "cell_type": "markdown",
   "id": "6162bd9e",
   "metadata": {
    "papermill": {
     "duration": 0.026988,
     "end_time": "2021-09-22T15:29:04.485082",
     "exception": false,
     "start_time": "2021-09-22T15:29:04.458094",
     "status": "completed"
    },
    "tags": []
   },
   "source": [
    "## 3. Simple Linear Regression Model"
   ]
  },
  {
   "cell_type": "code",
   "execution_count": 8,
   "id": "b23f9e03",
   "metadata": {
    "execution": {
     "iopub.execute_input": "2021-09-22T15:29:04.533188Z",
     "iopub.status.busy": "2021-09-22T15:29:04.532493Z",
     "iopub.status.idle": "2021-09-22T15:29:04.842453Z",
     "shell.execute_reply": "2021-09-22T15:29:04.842983Z",
     "shell.execute_reply.started": "2021-09-22T15:27:51.417553Z"
    },
    "papermill": {
     "duration": 0.336481,
     "end_time": "2021-09-22T15:29:04.843179",
     "exception": false,
     "start_time": "2021-09-22T15:29:04.506698",
     "status": "completed"
    },
    "tags": []
   },
   "outputs": [
    {
     "data": {
      "image/png": "[encoded data removed]",
      "text/plain": [
       "<Figure size 432x288 with 1 Axes>"
      ]
     },
     "metadata": {},
     "output_type": "display_data"
    }
   ],
   "source": [
    "plot = df[['YearsExperience']]\n",
    "plot.hist()\n",
    "plt.show()"
   ]
  },
  {
   "cell_type": "code",
   "execution_count": 9,
   "id": "7c1da81c",
   "metadata": {
    "execution": {
     "iopub.execute_input": "2021-09-22T15:29:04.892920Z",
     "iopub.status.busy": "2021-09-22T15:29:04.891678Z",
     "iopub.status.idle": "2021-09-22T15:29:04.894900Z",
     "shell.execute_reply": "2021-09-22T15:29:04.894178Z",
     "shell.execute_reply.started": "2021-09-22T15:27:51.655585Z"
    },
    "papermill": {
     "duration": 0.030646,
     "end_time": "2021-09-22T15:29:04.895074",
     "exception": false,
     "start_time": "2021-09-22T15:29:04.864428",
     "status": "completed"
    },
    "tags": []
   },
   "outputs": [],
   "source": [
    "msk = np.random.rand(len(df)) < 0.8\n",
    "train = df[msk]\n",
    "test = df[~msk]"
   ]
  },
  {
   "cell_type": "code",
   "execution_count": 10,
   "id": "ade4a948",
   "metadata": {
    "execution": {
     "iopub.execute_input": "2021-09-22T15:29:04.943880Z",
     "iopub.status.busy": "2021-09-22T15:29:04.942827Z",
     "iopub.status.idle": "2021-09-22T15:29:04.948049Z",
     "shell.execute_reply": "2021-09-22T15:29:04.947018Z",
     "shell.execute_reply.started": "2021-09-22T15:27:51.663521Z"
    },
    "papermill": {
     "duration": 0.031655,
     "end_time": "2021-09-22T15:29:04.948350",
     "exception": false,
     "start_time": "2021-09-22T15:29:04.916695",
     "status": "completed"
    },
    "tags": []
   },
   "outputs": [
    {
     "name": "stdout",
     "output_type": "stream",
     "text": [
      "train_shape: (24, 2)\n",
      "test_shape: (6, 2)\n"
     ]
    }
   ],
   "source": [
    "print('train_shape:', train.shape)\n",
    "print('test_shape:',test.shape)\n"
   ]
  },
  {
   "cell_type": "code",
   "execution_count": 11,
   "id": "58d3616f",
   "metadata": {
    "execution": {
     "iopub.execute_input": "2021-09-22T15:29:05.000016Z",
     "iopub.status.busy": "2021-09-22T15:29:04.999059Z",
     "iopub.status.idle": "2021-09-22T15:29:05.002306Z",
     "shell.execute_reply": "2021-09-22T15:29:05.001725Z",
     "shell.execute_reply.started": "2021-09-22T15:27:51.675344Z"
    },
    "papermill": {
     "duration": 0.031087,
     "end_time": "2021-09-22T15:29:05.002472",
     "exception": false,
     "start_time": "2021-09-22T15:29:04.971385",
     "status": "completed"
    },
    "tags": []
   },
   "outputs": [],
   "source": [
    "Results = pd.DataFrame({'Algorithm': [],'MAE': [], 'R^2': [], \"MSE\":[], \"RMSE\":[]})"
   ]
  },
  {
   "cell_type": "code",
   "execution_count": 12,
   "id": "97e8017c",
   "metadata": {
    "execution": {
     "iopub.execute_input": "2021-09-22T15:29:05.052553Z",
     "iopub.status.busy": "2021-09-22T15:29:05.051782Z",
     "iopub.status.idle": "2021-09-22T15:29:05.311604Z",
     "shell.execute_reply": "2021-09-22T15:29:05.310148Z",
     "shell.execute_reply.started": "2021-09-22T15:27:51.689168Z"
    },
    "papermill": {
     "duration": 0.287576,
     "end_time": "2021-09-22T15:29:05.311837",
     "exception": false,
     "start_time": "2021-09-22T15:29:05.024261",
     "status": "completed"
    },
    "tags": []
   },
   "outputs": [
    {
     "name": "stdout",
     "output_type": "stream",
     "text": [
      "Coefficients:  [[9383.82018777]]\n",
      "Intercept:  [27046.79748445]\n"
     ]
    }
   ],
   "source": [
    "from sklearn.linear_model import LinearRegression\n",
    "model_1 = LinearRegression()\n",
    "X_train = np.asanyarray(train[['YearsExperience']])\n",
    "y_train = np.asanyarray(train[['Salary']])\n",
    "model_1.fit (X_train, y_train)\n",
    "# The coefficients\n",
    "print ('Coefficients: ', model_1.coef_)\n",
    "print ('Intercept: ',model_1.intercept_)"
   ]
  },
  {
   "cell_type": "markdown",
   "id": "9ad6b3fc",
   "metadata": {
    "papermill": {
     "duration": 0.021323,
     "end_time": "2021-09-22T15:29:05.355856",
     "exception": false,
     "start_time": "2021-09-22T15:29:05.334533",
     "status": "completed"
    },
    "tags": []
   },
   "source": [
    "## 4. Predictions"
   ]
  },
  {
   "cell_type": "code",
   "execution_count": 13,
   "id": "e232ace2",
   "metadata": {
    "execution": {
     "iopub.execute_input": "2021-09-22T15:29:05.437748Z",
     "iopub.status.busy": "2021-09-22T15:29:05.437011Z",
     "iopub.status.idle": "2021-09-22T15:29:05.730385Z",
     "shell.execute_reply": "2021-09-22T15:29:05.730900Z",
     "shell.execute_reply.started": "2021-09-22T15:27:51.932948Z"
    },
    "papermill": {
     "duration": 0.353315,
     "end_time": "2021-09-22T15:29:05.731133",
     "exception": false,
     "start_time": "2021-09-22T15:29:05.377818",
     "status": "completed"
    },
    "tags": []
   },
   "outputs": [
    {
     "data": {
      "text/plain": [
       "Text(0.5, 1.0, 'Train Data')"
      ]
     },
     "execution_count": 13,
     "metadata": {},
     "output_type": "execute_result"
    },
    {
     "data": {
      "image/png": "[encoded data removed]",
      "text/plain": [
       "<Figure size 432x288 with 1 Axes>"
      ]
     },
     "metadata": {},
     "output_type": "display_data"
    }
   ],
   "source": [
    "plt.scatter(train['YearsExperience'],train['Salary'],  color='blue')\n",
    "plt.plot(X_train, model_1.coef_[0][0]*X_train + model_1.intercept_[0], '-r')\n",
    "plt.xlabel(\"Years Experience\")\n",
    "plt.ylabel(\"Salary\")\n",
    "plt.title(\"Train Data\")"
   ]
  },
  {
   "cell_type": "code",
   "execution_count": 14,
   "id": "f03b78c1",
   "metadata": {
    "execution": {
     "iopub.execute_input": "2021-09-22T15:29:05.786596Z",
     "iopub.status.busy": "2021-09-22T15:29:05.785808Z",
     "iopub.status.idle": "2021-09-22T15:29:05.790025Z",
     "shell.execute_reply": "2021-09-22T15:29:05.789442Z",
     "shell.execute_reply.started": "2021-09-22T15:27:52.187262Z"
    },
    "papermill": {
     "duration": 0.035796,
     "end_time": "2021-09-22T15:29:05.790190",
     "exception": false,
     "start_time": "2021-09-22T15:29:05.754394",
     "status": "completed"
    },
    "tags": []
   },
   "outputs": [],
   "source": [
    "X_test = np.asanyarray(test[['YearsExperience']])\n",
    "y_test = np.asanyarray(test[['Salary']])\n",
    "preds_1= model_1.predict(X_test)"
   ]
  },
  {
   "cell_type": "code",
   "execution_count": 15,
   "id": "e7574902",
   "metadata": {
    "execution": {
     "iopub.execute_input": "2021-09-22T15:29:05.841611Z",
     "iopub.status.busy": "2021-09-22T15:29:05.840882Z",
     "iopub.status.idle": "2021-09-22T15:29:05.844356Z",
     "shell.execute_reply": "2021-09-22T15:29:05.843632Z",
     "shell.execute_reply.started": "2021-09-22T15:27:52.194826Z"
    },
    "papermill": {
     "duration": 0.031524,
     "end_time": "2021-09-22T15:29:05.844525",
     "exception": false,
     "start_time": "2021-09-22T15:29:05.813001",
     "status": "completed"
    },
    "tags": []
   },
   "outputs": [],
   "source": [
    "from sklearn.metrics import mean_absolute_error, r2_score, mean_squared_error\n",
    "from math import sqrt"
   ]
  },
  {
   "cell_type": "code",
   "execution_count": 16,
   "id": "2adfe6fe",
   "metadata": {
    "execution": {
     "iopub.execute_input": "2021-09-22T15:29:05.903597Z",
     "iopub.status.busy": "2021-09-22T15:29:05.901926Z",
     "iopub.status.idle": "2021-09-22T15:29:05.909394Z",
     "shell.execute_reply": "2021-09-22T15:29:05.908718Z",
     "shell.execute_reply.started": "2021-09-22T15:27:52.209028Z"
    },
    "papermill": {
     "duration": 0.039385,
     "end_time": "2021-09-22T15:29:05.909566",
     "exception": false,
     "start_time": "2021-09-22T15:29:05.870181",
     "status": "completed"
    },
    "tags": []
   },
   "outputs": [],
   "source": [
    "res = pd.DataFrame({'Algorithm': ['LinearRegression'],'MAE': [mean_absolute_error(y_test, preds_1)],\"R^2\": [r2_score(y_test, preds_1)], \"MSE\":[mean_squared_error(y_test, preds_1)], \"RMSE\":[sqrt(mean_squared_error(y_test, preds_1))]})\n",
    "Results = Results.append(res)"
   ]
  },
  {
   "cell_type": "code",
   "execution_count": 17,
   "id": "b81b5d20",
   "metadata": {
    "execution": {
     "iopub.execute_input": "2021-09-22T15:29:05.969108Z",
     "iopub.status.busy": "2021-09-22T15:29:05.968203Z",
     "iopub.status.idle": "2021-09-22T15:29:05.971834Z",
     "shell.execute_reply": "2021-09-22T15:29:05.972415Z",
     "shell.execute_reply.started": "2021-09-22T15:27:52.224318Z"
    },
    "papermill": {
     "duration": 0.040151,
     "end_time": "2021-09-22T15:29:05.972606",
     "exception": false,
     "start_time": "2021-09-22T15:29:05.932455",
     "status": "completed"
    },
    "tags": []
   },
   "outputs": [
    {
     "data": {
      "text/html": [
       "<div>\n",
       "<style scoped>\n",
       "    .dataframe tbody tr th:only-of-type {\n",
       "        vertical-align: middle;\n",
       "    }\n",
       "\n",
       "    .dataframe tbody tr th {\n",
       "        vertical-align: top;\n",
       "    }\n",
       "\n",
       "    .dataframe thead th {\n",
       "        text-align: right;\n",
       "    }\n",
       "</style>\n",
       "<table border=\"1\" class=\"dataframe\">\n",
       "  <thead>\n",
       "    <tr style=\"text-align: right;\">\n",
       "      <th></th>\n",
       "      <th>Algorithm</th>\n",
       "      <th>MAE</th>\n",
       "      <th>R^2</th>\n",
       "      <th>MSE</th>\n",
       "      <th>RMSE</th>\n",
       "    </tr>\n",
       "  </thead>\n",
       "  <tbody>\n",
       "    <tr>\n",
       "      <th>0</th>\n",
       "      <td>LinearRegression</td>\n",
       "      <td>6618.128918</td>\n",
       "      <td>0.869527</td>\n",
       "      <td>4.805467e+07</td>\n",
       "      <td>6932.147488</td>\n",
       "    </tr>\n",
       "  </tbody>\n",
       "</table>\n",
       "</div>"
      ],
      "text/plain": [
       "          Algorithm          MAE       R^2           MSE         RMSE\n",
       "0  LinearRegression  6618.128918  0.869527  4.805467e+07  6932.147488"
      ]
     },
     "execution_count": 17,
     "metadata": {},
     "output_type": "execute_result"
    }
   ],
   "source": [
    "Results"
   ]
  },
  {
   "cell_type": "code",
   "execution_count": 18,
   "id": "952d51f9",
   "metadata": {
    "execution": {
     "iopub.execute_input": "2021-09-22T15:29:06.177305Z",
     "iopub.status.busy": "2021-09-22T15:29:06.161941Z",
     "iopub.status.idle": "2021-09-22T15:29:06.470387Z",
     "shell.execute_reply": "2021-09-22T15:29:06.470955Z",
     "shell.execute_reply.started": "2021-09-22T15:27:52.244978Z"
    },
    "papermill": {
     "duration": 0.47533,
     "end_time": "2021-09-22T15:29:06.471166",
     "exception": false,
     "start_time": "2021-09-22T15:29:05.995836",
     "status": "completed"
    },
    "tags": []
   },
   "outputs": [
    {
     "data": {
      "text/plain": [
       "Text(0.5, 1.0, 'Test Data')"
      ]
     },
     "execution_count": 18,
     "metadata": {},
     "output_type": "execute_result"
    },
    {
     "data": {
      "image/png": "[encoded data removed]",
      "text/plain": [
       "<Figure size 432x288 with 1 Axes>"
      ]
     },
     "metadata": {},
     "output_type": "display_data"
    }
   ],
   "source": [
    "plt.scatter(test['YearsExperience'], test['Salary'],  color='blue')\n",
    "plt.plot(X_test, model_1.coef_[0][0]*X_test + model_1.intercept_[0], '-y')\n",
    "plt.xlabel(\"Years Experience\")\n",
    "plt.ylabel(\"Salary\")\n",
    "plt.title(\"Test Data\")"
   ]
  },
  {
   "cell_type": "markdown",
   "id": "ddd5ff10",
   "metadata": {},
   "source": [
    "## 5. References"
   ]
  },
  {
   "cell_type": "markdown",
   "id": "8b1a5d2d",
   "metadata": {},
   "source": [
    "[Reference](https://www.coursera.org/learn/machine-learning-with-python/home/welcome)"
   ]
  }
 ],
 "metadata": {
  "kernelspec": {
   "display_name": "Python 3 (ipykernel)",
   "language": "python",
   "name": "python3"
  },
  "language_info": {
   "codemirror_mode": {
    "name": "ipython",
    "version": 3
   },
   "file_extension": ".py",
   "mimetype": "text/x-python",
   "name": "python",
   "nbconvert_exporter": "python",
   "pygments_lexer": "ipython3",
   "version": "3.9.7"
  },
  "papermill": {
   "default_parameters": {},
   "duration": 13.842255,
   "end_time": "2021-09-22T15:29:07.948771",
   "environment_variables": {},
   "exception": null,
   "input_path": "__notebook__.ipynb",
   "output_path": "__notebook__.ipynb",
   "parameters": {},
   "start_time": "2021-09-22T15:28:54.106516",
   "version": "2.3.3"
  }
 },
 "nbformat": 4,
 "nbformat_minor": 5
}
